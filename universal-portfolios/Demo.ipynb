{
 "cells": [
  {
   "cell_type": "markdown",
   "metadata": {},
   "source": [
    "# Demo"
   ]
  },
  {
   "cell_type": "markdown",
   "metadata": {},
   "source": [
    "## Our First Version"
   ]
  },
  {
   "cell_type": "code",
   "execution_count": 3,
   "metadata": {},
   "outputs": [],
   "source": [
    "import sys\n",
    "import numpy as np\n",
    "from itertools import takewhile\n",
    "import logging\n",
    "from logbuilder import buildLogger\n",
    "import cvxpy as cp\n",
    "\n",
    "def searchOpt(C):\n",
    "    \"\"\"\n",
    "    @C: historical prices with corr high than rho\n",
    "    \"\"\"\n",
    "    numAssets = C.shape[0]\n",
    "    logger = logging.getLogger('CORN') \n",
    "    \n",
    "    b = cp.Variable(numAssets, pos = True)\n",
    "    prob = cp.Problem(cp.Minimize(-1 * cp.sum(cp.log(C.T * b))), [cp.sum(b) == 1])\n",
    "    logger.debug('Solving Problem: ' + str(prob.solve(solver = 'SCS')))\n",
    "    return np.array(b.value)\n",
    "\n",
    "\n",
    "class expert():\n",
    "    def __init__(self, rho, timeWindow, initialWealth = 1):\n",
    "        \"\"\"\n",
    "        initialize:\n",
    "        @rho: correlation threshold\n",
    "        @timeWindow: specific time windows\n",
    "        @initialWealth: wealth\n",
    "        \"\"\"\n",
    "        self.rho =rho\n",
    "        self.timeWindow = timeWindow\n",
    "        self.wealth = initialWealth\n",
    "    def learning(self, Xh):\n",
    "        \"\"\"\n",
    "        @Xh: historical prices until time t, m*(t-1)\n",
    "        Return:\n",
    "        @portfolio: array of weights put on each assets\n",
    "        \"\"\"\n",
    "        # Use h instead of t here since h = t-1\n",
    "        numAssets, h = Xh.shape\n",
    "        self.portfolio = np.ones(numAssets)/numAssets\n",
    "        # if have reached w(timeWindow) + 1 days\n",
    "        if h > self.timeWindow:\n",
    "            indexSet = [np.corrcoef(Xh[:,-self.timeWindow:].reshape(-1), Xh[:,i-self.timeWindow: i].reshape(-1))[1][0] >= self.rho\\\n",
    "                        for i in range(self.timeWindow ,h)]\n",
    "            if sum(indexSet) > 0:\n",
    "                self.portfolio = searchOpt(Xh[:,self.timeWindow:][:,indexSet])\n",
    "        return self.portfolio\n",
    "    def update(self, xt):\n",
    "        \"\"\"\n",
    "        Update at the end of the day\n",
    "        @xt: prices of the current trading day\n",
    "        \"\"\"\n",
    "        self.wealth *= np.sum(self.portfolio * xt)\n",
    "\n",
    "\n",
    "def preProcess(data_path):\n",
    "    dataWithWeekend = np.loadtxt(data_path, delimiter=' ')\n",
    "    # Remove days when market closed\n",
    "    dataWithoutWeekend = dataWithWeekend[:,dataWithWeekend[0]!= 0]\n",
    "    # Start Date: the number of zeros before the first non-zero data\n",
    "    startDate = [len(list(takewhile(i))) for i in dataWithoutWeekend]\n",
    "    # Transform the data into relative prices compared to the day before\n",
    "    # Seems that a Numba function @nb.jit could help fill nulls, not used here\n",
    "\n",
    "\n",
    "def combine(portfolioSet, wealthSet, q):\n",
    "    \"\"\"\n",
    "    Combine the experts' portfolios\n",
    "    @portfolioSet: array of portfolios, W * m(numAssets)\n",
    "    @wealthSet: array of experts' current wealth, W\n",
    "    @q: array of probability distribution function, m\n",
    "    \"\"\"\n",
    "    nome = np.sum(portfolioSet.T * wealthSet * q, axis = 1)\n",
    "    deno = np.sum(wealthSet * q)\n",
    "    return nome/deno\n",
    "\n",
    "def CORNU(rho, W, X):\n",
    "    \"\"\"\n",
    "    main algorithm\n",
    "    @rho: correlation threshold\n",
    "    @W: maximum time window length\n",
    "    @X: historical prices matrix, m(numAssets) * T\n",
    "    \"\"\"\n",
    "    logger = logging.getLogger('CORN')\n",
    "    # Initialize weights q and wealth\n",
    "    q = np.ones(W)/W\n",
    "    numAssets, T = X.shape\n",
    "    wealth = 1\n",
    "    wealthRecord = np.ones(T+1)\n",
    "    portfolioRecord = np.zeros((numAssets,T))\n",
    "    expertPort = [expert(rho,w) for w in range(1,W+1)]\n",
    "    numAssets, T = X.shape\n",
    "\n",
    "    for t in range(T):\n",
    "        logger.info('Start Day ' + str(t))\n",
    "        portfolioSet = [expertI.learning(X[:,:t]) for expertI in expertPort]\n",
    "        wealthSet = [expertI.wealth for expertI in expertPort]\n",
    "        portfolioOverall = combine(np.array(portfolioSet), np.array(wealthSet), q)\n",
    "        wealth *= np.sum(portfolioOverall * X[:,t])\n",
    "        print(wealth)\n",
    "        for expertI in expertPort:\n",
    "            expertI.update(X[:,t])\n",
    "        logger.info('End Day with wealth '+ str(wealth))\n",
    "        wealthRecord[t] = wealth\n",
    "        portfolioRecord[:,t] = portfolioOverall\n",
    "    return wealthRecord, portfolioRecord\n"
   ]
  },
  {
   "cell_type": "code",
   "execution_count": 4,
   "metadata": {},
   "outputs": [
    {
     "name": "stderr",
     "output_type": "stream",
     "text": [
      "2019-04-23 01:38:53,507 Loaded backend module://ipykernel.pylab.backend_inline version unknown.\n",
      "2019-04-23 01:38:53,515 Starting new HTTPS connection (1): finance.yahoo.com:443\n",
      "2019-04-23 01:38:54,192 https://finance.yahoo.com:443 \"GET /quote/MSFT/history?period1=1104570000&period2=1556092799&interval=1d&frequency=1d&filter=history HTTP/1.1\" 200 None\n",
      "2019-04-23 01:38:55,205 https://finance.yahoo.com:443 \"GET /quote/IBM/history?period1=1104570000&period2=1556092799&interval=1d&frequency=1d&filter=history HTTP/1.1\" 200 None\n",
      "2019-04-23 01:38:55,835 https://finance.yahoo.com:443 \"GET /quote/AAPL/history?period1=1104570000&period2=1556092799&interval=1d&frequency=1d&filter=history HTTP/1.1\" 200 None\n",
      "2019-04-23 01:38:56,446 https://finance.yahoo.com:443 \"GET /quote/GOOG/history?period1=1104570000&period2=1556092799&interval=1d&frequency=1d&filter=history HTTP/1.1\" 200 None\n",
      "2019-04-23 01:38:56,624 Start Day 0\n",
      "2019-04-23 01:38:56,626 End Day with wealth 1.0\n",
      "2019-04-23 01:38:56,626 Start Day 1\n",
      "2019-04-23 01:38:56,628 End Day with wealth 0.9906919248605582\n",
      "2019-04-23 01:38:56,629 Start Day 2\n",
      "C:\\Users\\Resurgam\\Anaconda3\\envs\\advancedpy\\lib\\site-packages\\numpy\\lib\\function_base.py:2530: RuntimeWarning: invalid value encountered in true_divide\n",
      "  c /= stddev[:, None]\n",
      "C:\\Users\\Resurgam\\Anaconda3\\envs\\advancedpy\\lib\\site-packages\\numpy\\lib\\function_base.py:2531: RuntimeWarning: invalid value encountered in true_divide\n",
      "  c /= stddev[None, :]\n",
      "2019-04-23 01:38:56,632 End Day with wealth 0.990534462625539\n",
      "2019-04-23 01:38:56,633 Start Day 3\n",
      "2019-04-23 01:38:56,649 End Day with wealth 0.9849260051035724\n",
      "2019-04-23 01:38:56,650 Start Day 4\n",
      "2019-04-23 01:38:56,675 End Day with wealth 1.0274820437799965\n",
      "2019-04-23 01:38:56,676 Start Day 5\n",
      "2019-04-23 01:38:56,721 End Day with wealth 1.0254570444603317\n",
      "2019-04-23 01:38:56,723 Start Day 6\n",
      "2019-04-23 01:38:56,726 End Day with wealth 1.0046107033744667\n",
      "2019-04-23 01:38:56,727 Start Day 7\n",
      "2019-04-23 01:38:56,739 End Day with wealth 1.0104845459094631\n",
      "2019-04-23 01:38:56,740 Start Day 8\n",
      "2019-04-23 01:38:56,761 End Day with wealth 1.014355935987743\n",
      "2019-04-23 01:38:56,762 Start Day 9\n"
     ]
    },
    {
     "name": "stdout",
     "output_type": "stream",
     "text": [
      "1.0\n",
      "0.9906919248605582\n",
      "0.990534462625539\n",
      "0.9849260051035724\n",
      "1.0274820437799965\n",
      "1.0254570444603317\n",
      "1.0046107033744667\n",
      "1.0104845459094631\n",
      "1.014355935987743\n"
     ]
    },
    {
     "name": "stderr",
     "output_type": "stream",
     "text": [
      "2019-04-23 01:38:56,894 End Day with wealth 1.0272524240573258\n",
      "2019-04-23 01:38:56,895 Start Day 10\n",
      "2019-04-23 01:38:56,934 End Day with wealth 1.0354471341719464\n",
      "2019-04-23 01:38:56,935 Start Day 11\n",
      "2019-04-23 01:38:56,967 End Day with wealth 1.0164183781518834\n",
      "2019-04-23 01:38:56,968 Start Day 12\n",
      "2019-04-23 01:38:56,995 End Day with wealth 1.0176382228502676\n",
      "2019-04-23 01:38:56,996 Start Day 13\n",
      "2019-04-23 01:38:57,044 End Day with wealth 1.011736010038886\n",
      "2019-04-23 01:38:57,044 Start Day 14\n"
     ]
    },
    {
     "name": "stdout",
     "output_type": "stream",
     "text": [
      "1.0272524240573258\n",
      "1.0354471341719464\n",
      "1.0164183781518834\n",
      "1.0176382228502676\n",
      "1.011736010038886\n"
     ]
    },
    {
     "name": "stderr",
     "output_type": "stream",
     "text": [
      "2019-04-23 01:38:57,087 End Day with wealth 1.0038586368499962\n",
      "2019-04-23 01:38:57,088 Start Day 15\n",
      "2019-04-23 01:38:57,133 End Day with wealth 1.016581952098478\n",
      "2019-04-23 01:38:57,134 Start Day 16\n",
      "2019-04-23 01:38:57,186 End Day with wealth 1.022200959276548\n",
      "2019-04-23 01:38:57,187 Start Day 17\n",
      "2019-04-23 01:38:57,204 End Day with wealth 1.0236964091266072\n",
      "2019-04-23 01:38:57,205 Start Day 18\n",
      "2019-04-23 01:38:57,239 End Day with wealth 1.037976428736997\n",
      "2019-04-23 01:38:57,240 Start Day 19\n"
     ]
    },
    {
     "name": "stdout",
     "output_type": "stream",
     "text": [
      "1.0038586368499962\n",
      "1.016581952098478\n",
      "1.022200959276548\n",
      "1.0236964091266072\n",
      "1.037976428736997\n",
      "1.0681492766085876\n"
     ]
    },
    {
     "name": "stderr",
     "output_type": "stream",
     "text": [
      "2019-04-23 01:38:57,283 End Day with wealth 1.0681492766085876\n",
      "2019-04-23 01:38:57,284 Start Day 20\n",
      "2019-04-23 01:38:57,333 End Day with wealth 1.0614438995567617\n",
      "2019-04-23 01:38:57,333 Start Day 21\n"
     ]
    },
    {
     "name": "stdout",
     "output_type": "stream",
     "text": [
      "1.0614438995567617\n"
     ]
    },
    {
     "name": "stderr",
     "output_type": "stream",
     "text": [
      "2019-04-23 01:38:57,554 End Day with wealth 1.0946789977023283\n",
      "2019-04-23 01:38:57,555 Start Day 22\n",
      "2019-04-23 01:38:57,620 End Day with wealth 1.0775176320119078\n",
      "2019-04-23 01:38:57,621 Start Day 23\n"
     ]
    },
    {
     "name": "stdout",
     "output_type": "stream",
     "text": [
      "1.0946789977023283\n",
      "1.0775176320119078\n",
      "1.066667239715588\n"
     ]
    },
    {
     "name": "stderr",
     "output_type": "stream",
     "text": [
      "2019-04-23 01:38:57,750 End Day with wealth 1.066667239715588\n",
      "2019-04-23 01:38:57,751 Start Day 24\n",
      "2019-04-23 01:38:57,801 End Day with wealth 1.065392241724373\n",
      "2019-04-23 01:38:57,802 Start Day 25\n",
      "2019-04-23 01:38:57,848 End Day with wealth 1.085743195133433\n",
      "2019-04-23 01:38:57,849 Start Day 26\n",
      "2019-04-23 01:38:57,923 End Day with wealth 1.0541395588590234\n",
      "2019-04-23 01:38:57,924 Start Day 27\n"
     ]
    },
    {
     "name": "stdout",
     "output_type": "stream",
     "text": [
      "1.065392241724373\n",
      "1.085743195133433\n",
      "1.0541395588590234\n",
      "1.0431321136859733\n"
     ]
    },
    {
     "name": "stderr",
     "output_type": "stream",
     "text": [
      "2019-04-23 01:38:57,989 End Day with wealth 1.0431321136859733\n",
      "2019-04-23 01:38:57,990 Start Day 28\n",
      "2019-04-23 01:38:58,050 End Day with wealth 1.075580520121526\n",
      "2019-04-23 01:38:58,051 Start Day 29\n",
      "2019-04-23 01:38:58,123 End Day with wealth 1.1119388032970317\n",
      "2019-04-23 01:38:58,124 Start Day 30\n",
      "2019-04-23 01:38:58,195 End Day with wealth 1.1339255935410986\n",
      "2019-04-23 01:38:58,195 Start Day 31\n"
     ]
    },
    {
     "name": "stdout",
     "output_type": "stream",
     "text": [
      "1.075580520121526\n",
      "1.1119388032970317\n",
      "1.1339255935410986\n"
     ]
    },
    {
     "name": "stderr",
     "output_type": "stream",
     "text": [
      "2019-04-23 01:38:58,265 End Day with wealth 1.1486022344252858\n",
      "2019-04-23 01:38:58,266 Start Day 32\n",
      "2019-04-23 01:38:58,335 End Day with wealth 1.13446126219621\n",
      "2019-04-23 01:38:58,336 Start Day 33\n",
      "2019-04-23 01:38:58,417 End Day with wealth 1.1266741544954293\n",
      "2019-04-23 01:38:58,417 Start Day 34\n"
     ]
    },
    {
     "name": "stdout",
     "output_type": "stream",
     "text": [
      "1.1486022344252858\n",
      "1.13446126219621\n",
      "1.1266741544954293\n"
     ]
    },
    {
     "name": "stderr",
     "output_type": "stream",
     "text": [
      "2019-04-23 01:38:58,491 End Day with wealth 1.1087801165091822\n",
      "2019-04-23 01:38:58,491 Start Day 35\n",
      "2019-04-23 01:38:58,563 End Day with wealth 1.1470254681971028\n",
      "2019-04-23 01:38:58,564 Start Day 36\n",
      "2019-04-23 01:38:58,641 End Day with wealth 1.148232796927514\n",
      "2019-04-23 01:38:58,642 Start Day 37\n"
     ]
    },
    {
     "name": "stdout",
     "output_type": "stream",
     "text": [
      "1.1087801165091822\n",
      "1.1470254681971028\n",
      "1.148232796927514\n"
     ]
    },
    {
     "name": "stderr",
     "output_type": "stream",
     "text": [
      "2019-04-23 01:38:58,715 End Day with wealth 1.1449282438977777\n",
      "2019-04-23 01:38:58,716 Start Day 38\n",
      "2019-04-23 01:38:58,788 End Day with wealth 1.154320043376079\n",
      "2019-04-23 01:38:58,788 Start Day 39\n",
      "2019-04-23 01:38:58,860 End Day with wealth 1.1450566126728745\n",
      "2019-04-23 01:38:58,861 Start Day 40\n"
     ]
    },
    {
     "name": "stdout",
     "output_type": "stream",
     "text": [
      "1.1449282438977777\n",
      "1.154320043376079\n",
      "1.1450566126728745\n"
     ]
    },
    {
     "name": "stderr",
     "output_type": "stream",
     "text": [
      "2019-04-23 01:38:58,928 End Day with wealth 1.1370810219315792\n",
      "2019-04-23 01:38:58,929 Start Day 41\n",
      "2019-04-23 01:38:58,996 End Day with wealth 1.1047685412556147\n",
      "2019-04-23 01:38:58,997 Start Day 42\n",
      "2019-04-23 01:38:59,037 End Day with wealth 1.1060090568341\n",
      "2019-04-23 01:38:59,038 Start Day 43\n",
      "2019-04-23 01:38:59,092 End Day with wealth 1.106864262939406\n",
      "2019-04-23 01:38:59,092 Start Day 44\n"
     ]
    },
    {
     "name": "stdout",
     "output_type": "stream",
     "text": [
      "1.1370810219315792\n",
      "1.1047685412556147\n",
      "1.1060090568341\n",
      "1.106864262939406\n"
     ]
    },
    {
     "name": "stderr",
     "output_type": "stream",
     "text": [
      "2019-04-23 01:38:59,151 End Day with wealth 1.090098250308857\n",
      "2019-04-23 01:38:59,152 Start Day 45\n",
      "2019-04-23 01:38:59,305 End Day with wealth 1.0645814160034748\n",
      "2019-04-23 01:38:59,306 Start Day 46\n"
     ]
    },
    {
     "name": "stdout",
     "output_type": "stream",
     "text": [
      "1.090098250308857\n",
      "1.0645814160034748\n"
     ]
    },
    {
     "name": "stderr",
     "output_type": "stream",
     "text": [
      "2019-04-23 01:38:59,371 End Day with wealth 1.0757182137246126\n",
      "2019-04-23 01:38:59,372 Start Day 47\n",
      "2019-04-23 01:38:59,450 End Day with wealth 1.0784314168444626\n",
      "2019-04-23 01:38:59,450 Start Day 48\n",
      "2019-04-23 01:38:59,530 End Day with wealth 1.0797706220656962\n",
      "2019-04-23 01:38:59,531 Start Day 49\n"
     ]
    },
    {
     "name": "stdout",
     "output_type": "stream",
     "text": [
      "1.0757182137246126\n",
      "1.0784314168444626\n",
      "1.0797706220656962\n"
     ]
    },
    {
     "name": "stderr",
     "output_type": "stream",
     "text": [
      "2019-04-23 01:38:59,621 End Day with wealth 1.0969243033291058\n",
      "2019-04-23 01:38:59,623 Start Day 50\n",
      "2019-04-23 01:38:59,724 End Day with wealth 1.0906722983579011\n",
      "2019-04-23 01:38:59,724 Start Day 51\n"
     ]
    },
    {
     "name": "stdout",
     "output_type": "stream",
     "text": [
      "1.0969243033291058\n",
      "1.0906722983579011\n"
     ]
    },
    {
     "name": "stderr",
     "output_type": "stream",
     "text": [
      "2019-04-23 01:38:59,868 End Day with wealth 1.1091043965798038\n",
      "2019-04-23 01:38:59,869 Start Day 52\n",
      "2019-04-23 01:38:59,955 End Day with wealth 1.1202580158046525\n",
      "2019-04-23 01:38:59,956 Start Day 53\n",
      "2019-04-23 01:39:00,052 End Day with wealth 1.1270036233460976\n"
     ]
    },
    {
     "name": "stdout",
     "output_type": "stream",
     "text": [
      "1.1091043965798038\n",
      "1.1202580158046525\n",
      "1.1270036233460976\n"
     ]
    },
    {
     "name": "stderr",
     "output_type": "stream",
     "text": [
      "2019-04-23 01:39:00,053 Start Day 54\n",
      "2019-04-23 01:39:00,138 End Day with wealth 1.107878918391088\n",
      "2019-04-23 01:39:00,139 Start Day 55\n",
      "2019-04-23 01:39:00,235 End Day with wealth 1.1061929591021347\n",
      "2019-04-23 01:39:00,236 Start Day 56\n"
     ]
    },
    {
     "name": "stdout",
     "output_type": "stream",
     "text": [
      "1.107878918391088\n",
      "1.1061929591021347\n"
     ]
    },
    {
     "name": "stderr",
     "output_type": "stream",
     "text": [
      "2019-04-23 01:39:00,474 End Day with wealth 1.1063119062387488\n",
      "2019-04-23 01:39:00,475 Start Day 57\n",
      "2019-04-23 01:39:00,556 End Day with wealth 1.1050063917691237\n",
      "2019-04-23 01:39:00,557 Start Day 58\n",
      "2019-04-23 01:39:00,639 End Day with wealth 1.091774405184998\n",
      "2019-04-23 01:39:00,640 Start Day 59\n"
     ]
    },
    {
     "name": "stdout",
     "output_type": "stream",
     "text": [
      "1.1063119062387488\n",
      "1.1050063917691237\n",
      "1.091774405184998\n"
     ]
    },
    {
     "name": "stderr",
     "output_type": "stream",
     "text": [
      "2019-04-23 01:39:00,726 End Day with wealth 1.105393838154128\n",
      "2019-04-23 01:39:00,727 Start Day 60\n",
      "2019-04-23 01:39:00,818 End Day with wealth 1.0811099328498845\n",
      "2019-04-23 01:39:00,819 Start Day 61\n",
      "2019-04-23 01:39:00,892 End Day with wealth 1.0745842436989466\n",
      "2019-04-23 01:39:00,893 Start Day 62\n"
     ]
    },
    {
     "name": "stdout",
     "output_type": "stream",
     "text": [
      "1.105393838154128\n",
      "1.0811099328498845\n",
      "1.0745842436989466\n"
     ]
    },
    {
     "name": "stderr",
     "output_type": "stream",
     "text": [
      "2019-04-23 01:39:00,982 End Day with wealth 1.074763377235632\n",
      "2019-04-23 01:39:00,983 Start Day 63\n",
      "2019-04-23 01:39:01,070 End Day with wealth 1.0885949048930328\n",
      "2019-04-23 01:39:01,071 Start Day 64\n",
      "2019-04-23 01:39:01,159 End Day with wealth 1.0953379794727678\n",
      "2019-04-23 01:39:01,160 Start Day 65\n"
     ]
    },
    {
     "name": "stdout",
     "output_type": "stream",
     "text": [
      "1.074763377235632\n",
      "1.0885949048930328\n",
      "1.0953379794727678\n"
     ]
    },
    {
     "name": "stderr",
     "output_type": "stream",
     "text": [
      "2019-04-23 01:39:01,247 End Day with wealth 1.1180658484018804\n",
      "2019-04-23 01:39:01,248 Start Day 66\n",
      "2019-04-23 01:39:01,405 End Day with wealth 1.117490602130779\n",
      "2019-04-23 01:39:01,406 Start Day 67\n"
     ]
    },
    {
     "name": "stdout",
     "output_type": "stream",
     "text": [
      "1.1180658484018804\n",
      "1.117490602130779\n"
     ]
    },
    {
     "name": "stderr",
     "output_type": "stream",
     "text": [
      "2019-04-23 01:39:01,528 End Day with wealth 1.086402289528832\n",
      "2019-04-23 01:39:01,529 Start Day 68\n",
      "2019-04-23 01:39:01,619 End Day with wealth 1.0899887663030674\n",
      "2019-04-23 01:39:01,620 Start Day 69\n",
      "2019-04-23 01:39:01,705 End Day with wealth 1.0485999384032476\n",
      "2019-04-23 01:39:01,706 Start Day 70\n"
     ]
    },
    {
     "name": "stdout",
     "output_type": "stream",
     "text": [
      "1.086402289528832\n",
      "1.0899887663030674\n",
      "1.0485999384032476\n"
     ]
    },
    {
     "name": "stderr",
     "output_type": "stream",
     "text": [
      "2019-04-23 01:39:01,806 End Day with wealth 1.0250662070030572\n",
      "2019-04-23 01:39:01,807 Start Day 71\n",
      "2019-04-23 01:39:01,902 End Day with wealth 0.9902053829983248\n",
      "2019-04-23 01:39:01,903 Start Day 72\n",
      "2019-04-23 01:39:01,984 End Day with wealth 0.998549592735623\n",
      "2019-04-23 01:39:01,984 Start Day 73\n"
     ]
    },
    {
     "name": "stdout",
     "output_type": "stream",
     "text": [
      "1.0250662070030572\n",
      "0.9902053829983248\n",
      "0.998549592735623\n"
     ]
    },
    {
     "name": "stderr",
     "output_type": "stream",
     "text": [
      "2019-04-23 01:39:02,073 End Day with wealth 1.0312789659986537\n",
      "2019-04-23 01:39:02,074 Start Day 74\n",
      "2019-04-23 01:39:02,173 End Day with wealth 0.9873475279501888\n",
      "2019-04-23 01:39:02,174 Start Day 75\n"
     ]
    },
    {
     "name": "stdout",
     "output_type": "stream",
     "text": [
      "1.0312789659986537\n",
      "0.9873475279501888\n",
      "1.023513069572652\n"
     ]
    },
    {
     "name": "stderr",
     "output_type": "stream",
     "text": [
      "2019-04-23 01:39:02,269 End Day with wealth 1.023513069572652\n",
      "2019-04-23 01:39:02,270 Start Day 76\n",
      "2019-04-23 01:39:02,369 End Day with wealth 0.98333698768986\n",
      "2019-04-23 01:39:02,370 Start Day 77\n",
      "2019-04-23 01:39:02,464 End Day with wealth 0.9837305361298314\n",
      "2019-04-23 01:39:02,465 Start Day 78\n"
     ]
    },
    {
     "name": "stdout",
     "output_type": "stream",
     "text": [
      "0.98333698768986\n",
      "0.9837305361298314\n",
      "0.9643543148100441\n"
     ]
    },
    {
     "name": "stderr",
     "output_type": "stream",
     "text": [
      "2019-04-23 01:39:02,557 End Day with wealth 0.9643543148100441\n",
      "2019-04-23 01:39:02,558 Start Day 79\n",
      "2019-04-23 01:39:02,643 End Day with wealth 0.9665878889880044\n",
      "2019-04-23 01:39:02,644 Start Day 80\n",
      "2019-04-23 01:39:02,730 End Day with wealth 0.9498584629612169\n",
      "2019-04-23 01:39:02,730 Start Day 81\n"
     ]
    },
    {
     "name": "stdout",
     "output_type": "stream",
     "text": [
      "0.9665878889880044\n",
      "0.9498584629612169\n",
      "0.9577340930787062\n"
     ]
    },
    {
     "name": "stderr",
     "output_type": "stream",
     "text": [
      "2019-04-23 01:39:02,819 End Day with wealth 0.9577340930787062\n",
      "2019-04-23 01:39:02,820 Start Day 82\n",
      "2019-04-23 01:39:02,910 End Day with wealth 0.9661514362745233\n",
      "2019-04-23 01:39:02,911 Start Day 83\n",
      "2019-04-23 01:39:02,997 End Day with wealth 0.9732443214592624\n",
      "2019-04-23 01:39:02,998 Start Day 84\n",
      "2019-04-23 01:39:03,090 End Day with wealth 0.9747377264236449\n"
     ]
    },
    {
     "name": "stdout",
     "output_type": "stream",
     "text": [
      "0.9661514362745233\n",
      "0.9732443214592624\n",
      "0.9747377264236449\n"
     ]
    },
    {
     "name": "stderr",
     "output_type": "stream",
     "text": [
      "2019-04-23 01:39:03,091 Start Day 85\n",
      "2019-04-23 01:39:03,185 End Day with wealth 0.9668623282458556\n",
      "2019-04-23 01:39:03,186 Start Day 86\n",
      "2019-04-23 01:39:03,284 End Day with wealth 0.9692050798025629\n",
      "2019-04-23 01:39:03,285 Start Day 87\n"
     ]
    },
    {
     "name": "stdout",
     "output_type": "stream",
     "text": [
      "0.9668623282458556\n",
      "0.9692050798025629\n"
     ]
    },
    {
     "name": "stderr",
     "output_type": "stream",
     "text": [
      "2019-04-23 01:39:03,403 End Day with wealth 0.961474913670176\n",
      "2019-04-23 01:39:03,403 Start Day 88\n",
      "2019-04-23 01:39:03,519 End Day with wealth 0.9584974036947852\n",
      "2019-04-23 01:39:03,520 Start Day 89\n"
     ]
    },
    {
     "name": "stdout",
     "output_type": "stream",
     "text": [
      "0.961474913670176\n",
      "0.9584974036947852\n"
     ]
    },
    {
     "name": "stderr",
     "output_type": "stream",
     "text": [
      "2019-04-23 01:39:03,636 End Day with wealth 0.9583540436983905\n",
      "2019-04-23 01:39:03,637 Start Day 90\n",
      "2019-04-23 01:39:03,738 End Day with wealth 0.9435617760563192\n",
      "2019-04-23 01:39:03,739 Start Day 91\n"
     ]
    },
    {
     "name": "stdout",
     "output_type": "stream",
     "text": [
      "0.9583540436983905\n",
      "0.9435617760563192\n"
     ]
    },
    {
     "name": "stderr",
     "output_type": "stream",
     "text": [
      "2019-04-23 01:39:03,847 End Day with wealth 0.9548844529061608\n",
      "2019-04-23 01:39:03,847 Start Day 92\n",
      "2019-04-23 01:39:03,960 End Day with wealth 0.9737553991575899\n",
      "2019-04-23 01:39:03,961 Start Day 93\n"
     ]
    },
    {
     "name": "stdout",
     "output_type": "stream",
     "text": [
      "0.9548844529061608\n",
      "0.9737553991575899\n"
     ]
    },
    {
     "name": "stderr",
     "output_type": "stream",
     "text": [
      "2019-04-23 01:39:04,089 End Day with wealth 0.9757910867017194\n",
      "2019-04-23 01:39:04,090 Start Day 94\n",
      "2019-04-23 01:39:04,207 End Day with wealth 0.9902084076315772\n",
      "2019-04-23 01:39:04,209 Start Day 95\n"
     ]
    },
    {
     "name": "stdout",
     "output_type": "stream",
     "text": [
      "0.9757910867017194\n",
      "0.9902084076315772\n"
     ]
    },
    {
     "name": "stderr",
     "output_type": "stream",
     "text": [
      "2019-04-23 01:39:04,313 End Day with wealth 0.992280439925433\n",
      "2019-04-23 01:39:04,314 Start Day 96\n",
      "2019-04-23 01:39:04,456 End Day with wealth 0.9975161469104791\n",
      "2019-04-23 01:39:04,457 Start Day 97\n"
     ]
    },
    {
     "name": "stdout",
     "output_type": "stream",
     "text": [
      "0.992280439925433\n",
      "0.9975161469104791\n"
     ]
    },
    {
     "name": "stderr",
     "output_type": "stream",
     "text": [
      "2019-04-23 01:39:04,592 End Day with wealth 1.0553378737083707\n",
      "2019-04-23 01:39:04,594 Start Day 98\n",
      "2019-04-23 01:39:04,743 End Day with wealth 1.055424614980726\n",
      "2019-04-23 01:39:04,744 Start Day 99\n"
     ]
    },
    {
     "name": "stdout",
     "output_type": "stream",
     "text": [
      "1.0553378737083707\n",
      "1.055424614980726\n"
     ]
    },
    {
     "name": "stderr",
     "output_type": "stream",
     "text": [
      "2019-04-23 01:39:04,867 End Day with wealth 1.071044013311975\n",
      "2019-04-23 01:39:04,869 update_title_pos\n",
      "2019-04-23 01:39:04,873 findfont: Matching :family=sans-serif:style=normal:variant=normal:weight=normal:stretch=normal:size=10.0 to DejaVu Sans ('C:\\\\Users\\\\Resurgam\\\\Anaconda3\\\\envs\\\\advancedpy\\\\lib\\\\site-packages\\\\matplotlib\\\\mpl-data\\\\fonts\\\\ttf\\\\DejaVuSans.ttf') with score of 0.050000.\n",
      "2019-04-23 01:39:04,926 update_title_pos\n",
      "2019-04-23 01:39:04,971 update_title_pos\n",
      "2019-04-23 01:39:05,014 update_title_pos\n",
      "2019-04-23 01:39:05,034 update_title_pos\n"
     ]
    },
    {
     "name": "stdout",
     "output_type": "stream",
     "text": [
      "1.071044013311975\n"
     ]
    },
    {
     "data": {
      "image/png": "[encoded data removed]",
      "text/plain": [
       "<Figure size 432x288 with 1 Axes>"
      ]
     },
     "metadata": {
      "needs_background": "light"
     },
     "output_type": "display_data"
    }
   ],
   "source": [
    "import matplotlib.pyplot as plt\n",
    "from pandas_datareader.data import DataReader\n",
    "from datetime import datetime\n",
    "%matplotlib inline\n",
    "\n",
    "logger_file = './'\n",
    "logger = buildLogger(logger_file, 'CORN')\n",
    "\n",
    "\n",
    "# load data from Yahoo\n",
    "yahoo_data = DataReader(['MSFT', 'IBM', 'AAPL', 'GOOG'], 'yahoo', start=datetime(2005,1,1))['Adj Close']\n",
    "# plot normalized prices of these stocks\n",
    "(yahoo_data / yahoo_data.iloc[0,:]).plot()\n",
    "# conpute relative prices\n",
    "yahoo_data_r = yahoo_data / yahoo_data.shift(1).fillna(method='ffill')\n",
    "for name, s in yahoo_data_r.iteritems():\n",
    "    yahoo_data_r[name].iloc[s.index.get_loc(s.first_valid_index()) - 1] = 1.\n",
    "\n",
    "data = yahoo_data_r[:100].values.T\n",
    "rho = 0.5\n",
    "W = 5\n",
    "wealthRecord, portfolioRecord = CORNU(rho, W, data)\n"
   ]
  },
  {
   "cell_type": "code",
   "execution_count": 4,
   "metadata": {},
   "outputs": [
    {
     "data": {
      "text/plain": [
       "[<matplotlib.lines.Line2D at 0x1eabb84fa90>]"
      ]
     },
     "execution_count": 4,
     "metadata": {},
     "output_type": "execute_result"
    },
    {
     "data": {
      "image/png": "[encoded data removed]",
      "text/plain": [
       "<Figure size 432x288 with 1 Axes>"
      ]
     },
     "metadata": {
      "needs_background": "light"
     },
     "output_type": "display_data"
    }
   ],
   "source": [
    "plt.plot(wealthRecord)"
   ]
  },
  {
   "cell_type": "markdown",
   "metadata": {},
   "source": [
    "**Note**\n",
    "- combine 可能要改一下，有warning\n",
    "- 要把cornk的代码加上\n",
    "- 暂时把画图的代码去了，需要额外加模块\n",
    "- 记得写preprocessing"
   ]
  },
  {
   "cell_type": "markdown",
   "metadata": {},
   "source": [
    "## Codes from Github"
   ]
  },
  {
   "cell_type": "code",
   "execution_count": 1,
   "metadata": {},
   "outputs": [
    {
     "name": "stderr",
     "output_type": "stream",
     "text": [
      "2019-04-23 01:38:08,905 Loaded backend module://ipykernel.pylab.backend_inline version unknown.\n"
     ]
    }
   ],
   "source": [
    "%matplotlib inline\n",
    "import pandas as pd\n",
    "#from universal import tools\n",
    "from universal import algos\n",
    "import logging\n",
    "# we would like to see algos progress\n",
    "logging.basicConfig(format='%(asctime)s %(message)s', level=logging.DEBUG)\n",
    "\n",
    "import matplotlib\n"
   ]
  },
  {
   "cell_type": "code",
   "execution_count": 5,
   "metadata": {},
   "outputs": [
    {
     "name": "stderr",
     "output_type": "stream",
     "text": [
      "2019-04-23 01:39:13,023 Running CORN...\n",
      "2019-04-23 01:39:13,038 Progress: 0.0%...\n",
      "2019-04-23 01:39:13,067 Progress: 10.0%...\n",
      "2019-04-23 01:39:13,109 Progress: 20.0%...\n",
      "2019-04-23 01:39:13,480 Progress: 30.0%...\n",
      "2019-04-23 01:39:14,168 Progress: 40.0%...\n",
      "2019-04-23 01:39:14,718 Progress: 50.0%...\n",
      "2019-04-23 01:39:15,337 Progress: 60.0%...\n",
      "2019-04-23 01:39:16,094 Progress: 70.0%...\n",
      "2019-04-23 01:39:16,868 Progress: 80.0%...\n",
      "2019-04-23 01:39:17,663 Progress: 90.0%...\n",
      "2019-04-23 01:39:18,409 CORN finished successfully.\n"
     ]
    }
   ],
   "source": [
    "# set algo parameters\n",
    "algo = algos.CORN(window=5, rho=0.5)\n",
    "\n",
    "# run\n",
    "result = algo.run(yahoo_data[:100])"
   ]
  },
  {
   "cell_type": "code",
   "execution_count": 6,
   "metadata": {},
   "outputs": [
    {
     "data": {
      "text/plain": [
       "[<matplotlib.axes._subplots.AxesSubplot at 0x1cdfa9d4780>,\n",
       " <matplotlib.axes._subplots.AxesSubplot at 0x1cdfaf97eb8>]"
      ]
     },
     "execution_count": 6,
     "metadata": {},
     "output_type": "execute_result"
    },
    {
     "name": "stderr",
     "output_type": "stream",
     "text": [
      "2019-04-23 01:39:26,753 update_title_pos\n",
      "2019-04-23 01:39:26,786 update_title_pos\n",
      "2019-04-23 01:39:26,828 update_title_pos\n",
      "2019-04-23 01:39:26,858 update_title_pos\n",
      "2019-04-23 01:39:26,904 update_title_pos\n",
      "2019-04-23 01:39:26,933 update_title_pos\n",
      "2019-04-23 01:39:26,983 update_title_pos\n",
      "2019-04-23 01:39:27,011 update_title_pos\n",
      "2019-04-23 01:39:27,036 update_title_pos\n",
      "2019-04-23 01:39:27,069 update_title_pos\n"
     ]
    },
    {
     "data": {
      "image/png": "[encoded data removed]",
      "text/plain": [
       "<Figure size 432x288 with 2 Axes>"
      ]
     },
     "metadata": {
      "needs_background": "light"
     },
     "output_type": "display_data"
    }
   ],
   "source": [
    "result.plot()"
   ]
  },
  {
   "cell_type": "code",
   "execution_count": 7,
   "metadata": {},
   "outputs": [
    {
     "data": {
      "text/html": [
       "<div>\n",
       "<style scoped>\n",
       "    .dataframe tbody tr th:only-of-type {\n",
       "        vertical-align: middle;\n",
       "    }\n",
       "\n",
       "    .dataframe tbody tr th {\n",
       "        vertical-align: top;\n",
       "    }\n",
       "\n",
       "    .dataframe thead th {\n",
       "        text-align: right;\n",
       "    }\n",
       "</style>\n",
       "<table border=\"1\" class=\"dataframe\">\n",
       "  <thead>\n",
       "    <tr style=\"text-align: right;\">\n",
       "      <th>Symbols</th>\n",
       "      <th>AAPL</th>\n",
       "      <th>GOOG</th>\n",
       "      <th>IBM</th>\n",
       "      <th>MSFT</th>\n",
       "    </tr>\n",
       "    <tr>\n",
       "      <th>Date</th>\n",
       "      <th></th>\n",
       "      <th></th>\n",
       "      <th></th>\n",
       "      <th></th>\n",
       "    </tr>\n",
       "  </thead>\n",
       "  <tbody>\n",
       "    <tr>\n",
       "      <th>2005-01-03</th>\n",
       "      <td>2.500000e-01</td>\n",
       "      <td>2.500000e-01</td>\n",
       "      <td>2.500000e-01</td>\n",
       "      <td>2.500000e-01</td>\n",
       "    </tr>\n",
       "    <tr>\n",
       "      <th>2005-01-04</th>\n",
       "      <td>2.500000e-01</td>\n",
       "      <td>2.500000e-01</td>\n",
       "      <td>2.500000e-01</td>\n",
       "      <td>2.500000e-01</td>\n",
       "    </tr>\n",
       "    <tr>\n",
       "      <th>2005-01-05</th>\n",
       "      <td>2.500000e-01</td>\n",
       "      <td>2.500000e-01</td>\n",
       "      <td>2.500000e-01</td>\n",
       "      <td>2.500000e-01</td>\n",
       "    </tr>\n",
       "    <tr>\n",
       "      <th>2005-01-06</th>\n",
       "      <td>2.500000e-01</td>\n",
       "      <td>2.500000e-01</td>\n",
       "      <td>2.500000e-01</td>\n",
       "      <td>2.500000e-01</td>\n",
       "    </tr>\n",
       "    <tr>\n",
       "      <th>2005-01-07</th>\n",
       "      <td>2.500000e-01</td>\n",
       "      <td>2.500000e-01</td>\n",
       "      <td>2.500000e-01</td>\n",
       "      <td>2.500000e-01</td>\n",
       "    </tr>\n",
       "    <tr>\n",
       "      <th>2005-01-10</th>\n",
       "      <td>2.500000e-01</td>\n",
       "      <td>2.500000e-01</td>\n",
       "      <td>2.500000e-01</td>\n",
       "      <td>2.500000e-01</td>\n",
       "    </tr>\n",
       "    <tr>\n",
       "      <th>2005-01-11</th>\n",
       "      <td>2.500000e-01</td>\n",
       "      <td>2.500000e-01</td>\n",
       "      <td>2.500000e-01</td>\n",
       "      <td>2.500000e-01</td>\n",
       "    </tr>\n",
       "    <tr>\n",
       "      <th>2005-01-12</th>\n",
       "      <td>2.500000e-01</td>\n",
       "      <td>2.500000e-01</td>\n",
       "      <td>2.500000e-01</td>\n",
       "      <td>2.500000e-01</td>\n",
       "    </tr>\n",
       "    <tr>\n",
       "      <th>2005-01-13</th>\n",
       "      <td>2.500000e-01</td>\n",
       "      <td>2.500000e-01</td>\n",
       "      <td>2.500000e-01</td>\n",
       "      <td>2.500000e-01</td>\n",
       "    </tr>\n",
       "    <tr>\n",
       "      <th>2005-01-14</th>\n",
       "      <td>2.500000e-01</td>\n",
       "      <td>2.500000e-01</td>\n",
       "      <td>2.500000e-01</td>\n",
       "      <td>2.500000e-01</td>\n",
       "    </tr>\n",
       "    <tr>\n",
       "      <th>2005-01-18</th>\n",
       "      <td>2.500000e-01</td>\n",
       "      <td>2.500000e-01</td>\n",
       "      <td>2.500000e-01</td>\n",
       "      <td>2.500000e-01</td>\n",
       "    </tr>\n",
       "    <tr>\n",
       "      <th>2005-01-19</th>\n",
       "      <td>2.500000e-01</td>\n",
       "      <td>2.500000e-01</td>\n",
       "      <td>2.500000e-01</td>\n",
       "      <td>2.500000e-01</td>\n",
       "    </tr>\n",
       "    <tr>\n",
       "      <th>2005-01-20</th>\n",
       "      <td>2.500000e-01</td>\n",
       "      <td>2.500000e-01</td>\n",
       "      <td>2.500000e-01</td>\n",
       "      <td>2.500000e-01</td>\n",
       "    </tr>\n",
       "    <tr>\n",
       "      <th>2005-01-21</th>\n",
       "      <td>2.500000e-01</td>\n",
       "      <td>2.500000e-01</td>\n",
       "      <td>2.500000e-01</td>\n",
       "      <td>2.500000e-01</td>\n",
       "    </tr>\n",
       "    <tr>\n",
       "      <th>2005-01-24</th>\n",
       "      <td>2.500000e-01</td>\n",
       "      <td>2.500000e-01</td>\n",
       "      <td>2.500000e-01</td>\n",
       "      <td>2.500000e-01</td>\n",
       "    </tr>\n",
       "    <tr>\n",
       "      <th>2005-01-25</th>\n",
       "      <td>2.500000e-01</td>\n",
       "      <td>2.500000e-01</td>\n",
       "      <td>2.500000e-01</td>\n",
       "      <td>2.500000e-01</td>\n",
       "    </tr>\n",
       "    <tr>\n",
       "      <th>2005-01-26</th>\n",
       "      <td>2.500000e-01</td>\n",
       "      <td>2.500000e-01</td>\n",
       "      <td>2.500000e-01</td>\n",
       "      <td>2.500000e-01</td>\n",
       "    </tr>\n",
       "    <tr>\n",
       "      <th>2005-01-27</th>\n",
       "      <td>2.500000e-01</td>\n",
       "      <td>2.500000e-01</td>\n",
       "      <td>2.500000e-01</td>\n",
       "      <td>2.500000e-01</td>\n",
       "    </tr>\n",
       "    <tr>\n",
       "      <th>2005-01-28</th>\n",
       "      <td>2.500000e-01</td>\n",
       "      <td>2.500000e-01</td>\n",
       "      <td>2.500000e-01</td>\n",
       "      <td>2.500000e-01</td>\n",
       "    </tr>\n",
       "    <tr>\n",
       "      <th>2005-01-31</th>\n",
       "      <td>2.500000e-01</td>\n",
       "      <td>2.500000e-01</td>\n",
       "      <td>2.500000e-01</td>\n",
       "      <td>2.500000e-01</td>\n",
       "    </tr>\n",
       "    <tr>\n",
       "      <th>2005-02-01</th>\n",
       "      <td>2.500000e-01</td>\n",
       "      <td>2.500000e-01</td>\n",
       "      <td>2.500000e-01</td>\n",
       "      <td>2.500000e-01</td>\n",
       "    </tr>\n",
       "    <tr>\n",
       "      <th>2005-02-02</th>\n",
       "      <td>2.500000e-01</td>\n",
       "      <td>2.500000e-01</td>\n",
       "      <td>2.500000e-01</td>\n",
       "      <td>2.500000e-01</td>\n",
       "    </tr>\n",
       "    <tr>\n",
       "      <th>2005-02-03</th>\n",
       "      <td>4.857226e-17</td>\n",
       "      <td>4.869459e-16</td>\n",
       "      <td>4.971733e-16</td>\n",
       "      <td>1.000000e+00</td>\n",
       "    </tr>\n",
       "    <tr>\n",
       "      <th>2005-02-04</th>\n",
       "      <td>2.500000e-01</td>\n",
       "      <td>2.500000e-01</td>\n",
       "      <td>2.500000e-01</td>\n",
       "      <td>2.500000e-01</td>\n",
       "    </tr>\n",
       "    <tr>\n",
       "      <th>2005-02-07</th>\n",
       "      <td>2.500000e-01</td>\n",
       "      <td>2.500000e-01</td>\n",
       "      <td>2.500000e-01</td>\n",
       "      <td>2.500000e-01</td>\n",
       "    </tr>\n",
       "    <tr>\n",
       "      <th>2005-02-08</th>\n",
       "      <td>2.500000e-01</td>\n",
       "      <td>2.500000e-01</td>\n",
       "      <td>2.500000e-01</td>\n",
       "      <td>2.500000e-01</td>\n",
       "    </tr>\n",
       "    <tr>\n",
       "      <th>2005-02-09</th>\n",
       "      <td>2.500000e-01</td>\n",
       "      <td>2.500000e-01</td>\n",
       "      <td>2.500000e-01</td>\n",
       "      <td>2.500000e-01</td>\n",
       "    </tr>\n",
       "    <tr>\n",
       "      <th>2005-02-10</th>\n",
       "      <td>7.216450e-16</td>\n",
       "      <td>1.000000e+00</td>\n",
       "      <td>1.615703e-17</td>\n",
       "      <td>0.000000e+00</td>\n",
       "    </tr>\n",
       "    <tr>\n",
       "      <th>2005-02-11</th>\n",
       "      <td>2.500000e-01</td>\n",
       "      <td>2.500000e-01</td>\n",
       "      <td>2.500000e-01</td>\n",
       "      <td>2.500000e-01</td>\n",
       "    </tr>\n",
       "    <tr>\n",
       "      <th>2005-02-14</th>\n",
       "      <td>0.000000e+00</td>\n",
       "      <td>1.000000e+00</td>\n",
       "      <td>7.534669e-17</td>\n",
       "      <td>0.000000e+00</td>\n",
       "    </tr>\n",
       "    <tr>\n",
       "      <th>...</th>\n",
       "      <td>...</td>\n",
       "      <td>...</td>\n",
       "      <td>...</td>\n",
       "      <td>...</td>\n",
       "    </tr>\n",
       "    <tr>\n",
       "      <th>2005-04-14</th>\n",
       "      <td>1.000000e+00</td>\n",
       "      <td>1.845746e-15</td>\n",
       "      <td>1.263420e-16</td>\n",
       "      <td>0.000000e+00</td>\n",
       "    </tr>\n",
       "    <tr>\n",
       "      <th>2005-04-15</th>\n",
       "      <td>1.000000e+00</td>\n",
       "      <td>0.000000e+00</td>\n",
       "      <td>2.081288e-16</td>\n",
       "      <td>2.914335e-16</td>\n",
       "    </tr>\n",
       "    <tr>\n",
       "      <th>2005-04-18</th>\n",
       "      <td>0.000000e+00</td>\n",
       "      <td>0.000000e+00</td>\n",
       "      <td>0.000000e+00</td>\n",
       "      <td>0.000000e+00</td>\n",
       "    </tr>\n",
       "    <tr>\n",
       "      <th>2005-04-19</th>\n",
       "      <td>1.000000e+00</td>\n",
       "      <td>0.000000e+00</td>\n",
       "      <td>0.000000e+00</td>\n",
       "      <td>0.000000e+00</td>\n",
       "    </tr>\n",
       "    <tr>\n",
       "      <th>2005-04-20</th>\n",
       "      <td>1.000000e+00</td>\n",
       "      <td>0.000000e+00</td>\n",
       "      <td>0.000000e+00</td>\n",
       "      <td>2.775558e-16</td>\n",
       "    </tr>\n",
       "    <tr>\n",
       "      <th>2005-04-21</th>\n",
       "      <td>0.000000e+00</td>\n",
       "      <td>1.000000e+00</td>\n",
       "      <td>1.179391e-15</td>\n",
       "      <td>0.000000e+00</td>\n",
       "    </tr>\n",
       "    <tr>\n",
       "      <th>2005-04-22</th>\n",
       "      <td>6.383782e-16</td>\n",
       "      <td>1.148976e-16</td>\n",
       "      <td>0.000000e+00</td>\n",
       "      <td>3.026871e-16</td>\n",
       "    </tr>\n",
       "    <tr>\n",
       "      <th>2005-04-25</th>\n",
       "      <td>9.960394e-16</td>\n",
       "      <td>7.502722e-17</td>\n",
       "      <td>0.000000e+00</td>\n",
       "      <td>0.000000e+00</td>\n",
       "    </tr>\n",
       "    <tr>\n",
       "      <th>2005-04-26</th>\n",
       "      <td>2.500000e-01</td>\n",
       "      <td>2.500000e-01</td>\n",
       "      <td>2.500000e-01</td>\n",
       "      <td>2.500000e-01</td>\n",
       "    </tr>\n",
       "    <tr>\n",
       "      <th>2005-04-27</th>\n",
       "      <td>2.500000e-01</td>\n",
       "      <td>2.500000e-01</td>\n",
       "      <td>2.500000e-01</td>\n",
       "      <td>2.500000e-01</td>\n",
       "    </tr>\n",
       "    <tr>\n",
       "      <th>2005-04-28</th>\n",
       "      <td>2.077273e-17</td>\n",
       "      <td>2.783943e-17</td>\n",
       "      <td>7.106961e-17</td>\n",
       "      <td>0.000000e+00</td>\n",
       "    </tr>\n",
       "    <tr>\n",
       "      <th>2005-04-29</th>\n",
       "      <td>5.871667e-16</td>\n",
       "      <td>1.000000e+00</td>\n",
       "      <td>8.804679e-16</td>\n",
       "      <td>0.000000e+00</td>\n",
       "    </tr>\n",
       "    <tr>\n",
       "      <th>2005-05-02</th>\n",
       "      <td>1.000000e+00</td>\n",
       "      <td>6.126551e-17</td>\n",
       "      <td>0.000000e+00</td>\n",
       "      <td>1.387779e-17</td>\n",
       "    </tr>\n",
       "    <tr>\n",
       "      <th>2005-05-03</th>\n",
       "      <td>0.000000e+00</td>\n",
       "      <td>1.000000e+00</td>\n",
       "      <td>0.000000e+00</td>\n",
       "      <td>0.000000e+00</td>\n",
       "    </tr>\n",
       "    <tr>\n",
       "      <th>2005-05-04</th>\n",
       "      <td>1.000000e+00</td>\n",
       "      <td>0.000000e+00</td>\n",
       "      <td>1.553962e-16</td>\n",
       "      <td>0.000000e+00</td>\n",
       "    </tr>\n",
       "    <tr>\n",
       "      <th>2005-05-05</th>\n",
       "      <td>4.063430e-16</td>\n",
       "      <td>1.000000e+00</td>\n",
       "      <td>3.747003e-16</td>\n",
       "      <td>5.692810e-16</td>\n",
       "    </tr>\n",
       "    <tr>\n",
       "      <th>2005-05-06</th>\n",
       "      <td>6.105926e-17</td>\n",
       "      <td>0.000000e+00</td>\n",
       "      <td>1.840456e-16</td>\n",
       "      <td>0.000000e+00</td>\n",
       "    </tr>\n",
       "    <tr>\n",
       "      <th>2005-05-09</th>\n",
       "      <td>8.392544e-17</td>\n",
       "      <td>0.000000e+00</td>\n",
       "      <td>3.330669e-16</td>\n",
       "      <td>0.000000e+00</td>\n",
       "    </tr>\n",
       "    <tr>\n",
       "      <th>2005-05-10</th>\n",
       "      <td>7.216450e-16</td>\n",
       "      <td>2.493393e-16</td>\n",
       "      <td>0.000000e+00</td>\n",
       "      <td>1.000000e+00</td>\n",
       "    </tr>\n",
       "    <tr>\n",
       "      <th>2005-05-11</th>\n",
       "      <td>7.771561e-16</td>\n",
       "      <td>1.000000e+00</td>\n",
       "      <td>0.000000e+00</td>\n",
       "      <td>2.373469e-16</td>\n",
       "    </tr>\n",
       "    <tr>\n",
       "      <th>2005-05-12</th>\n",
       "      <td>1.000000e+00</td>\n",
       "      <td>8.257284e-16</td>\n",
       "      <td>0.000000e+00</td>\n",
       "      <td>4.271535e-16</td>\n",
       "    </tr>\n",
       "    <tr>\n",
       "      <th>2005-05-13</th>\n",
       "      <td>4.585887e-17</td>\n",
       "      <td>0.000000e+00</td>\n",
       "      <td>0.000000e+00</td>\n",
       "      <td>0.000000e+00</td>\n",
       "    </tr>\n",
       "    <tr>\n",
       "      <th>2005-05-16</th>\n",
       "      <td>1.000000e+00</td>\n",
       "      <td>2.974922e-16</td>\n",
       "      <td>0.000000e+00</td>\n",
       "      <td>3.191891e-16</td>\n",
       "    </tr>\n",
       "    <tr>\n",
       "      <th>2005-05-17</th>\n",
       "      <td>6.152543e-16</td>\n",
       "      <td>0.000000e+00</td>\n",
       "      <td>0.000000e+00</td>\n",
       "      <td>0.000000e+00</td>\n",
       "    </tr>\n",
       "    <tr>\n",
       "      <th>2005-05-18</th>\n",
       "      <td>1.000000e+00</td>\n",
       "      <td>0.000000e+00</td>\n",
       "      <td>6.422942e-16</td>\n",
       "      <td>9.462630e-16</td>\n",
       "    </tr>\n",
       "    <tr>\n",
       "      <th>2005-05-19</th>\n",
       "      <td>8.483841e-17</td>\n",
       "      <td>1.000000e+00</td>\n",
       "      <td>0.000000e+00</td>\n",
       "      <td>4.170918e-16</td>\n",
       "    </tr>\n",
       "    <tr>\n",
       "      <th>2005-05-20</th>\n",
       "      <td>0.000000e+00</td>\n",
       "      <td>1.000000e+00</td>\n",
       "      <td>6.990244e-16</td>\n",
       "      <td>1.296756e-15</td>\n",
       "    </tr>\n",
       "    <tr>\n",
       "      <th>2005-05-23</th>\n",
       "      <td>4.996004e-16</td>\n",
       "      <td>1.000000e+00</td>\n",
       "      <td>0.000000e+00</td>\n",
       "      <td>0.000000e+00</td>\n",
       "    </tr>\n",
       "    <tr>\n",
       "      <th>2005-05-24</th>\n",
       "      <td>0.000000e+00</td>\n",
       "      <td>1.000000e+00</td>\n",
       "      <td>3.641483e-16</td>\n",
       "      <td>3.861517e-16</td>\n",
       "    </tr>\n",
       "    <tr>\n",
       "      <th>2005-05-25</th>\n",
       "      <td>0.000000e+00</td>\n",
       "      <td>2.482246e-01</td>\n",
       "      <td>0.000000e+00</td>\n",
       "      <td>6.938894e-17</td>\n",
       "    </tr>\n",
       "  </tbody>\n",
       "</table>\n",
       "<p>100 rows × 4 columns</p>\n",
       "</div>"
      ],
      "text/plain": [
       "Symbols             AAPL          GOOG           IBM          MSFT\n",
       "Date                                                              \n",
       "2005-01-03  2.500000e-01  2.500000e-01  2.500000e-01  2.500000e-01\n",
       "2005-01-04  2.500000e-01  2.500000e-01  2.500000e-01  2.500000e-01\n",
       "2005-01-05  2.500000e-01  2.500000e-01  2.500000e-01  2.500000e-01\n",
       "2005-01-06  2.500000e-01  2.500000e-01  2.500000e-01  2.500000e-01\n",
       "2005-01-07  2.500000e-01  2.500000e-01  2.500000e-01  2.500000e-01\n",
       "2005-01-10  2.500000e-01  2.500000e-01  2.500000e-01  2.500000e-01\n",
       "2005-01-11  2.500000e-01  2.500000e-01  2.500000e-01  2.500000e-01\n",
       "2005-01-12  2.500000e-01  2.500000e-01  2.500000e-01  2.500000e-01\n",
       "2005-01-13  2.500000e-01  2.500000e-01  2.500000e-01  2.500000e-01\n",
       "2005-01-14  2.500000e-01  2.500000e-01  2.500000e-01  2.500000e-01\n",
       "2005-01-18  2.500000e-01  2.500000e-01  2.500000e-01  2.500000e-01\n",
       "2005-01-19  2.500000e-01  2.500000e-01  2.500000e-01  2.500000e-01\n",
       "2005-01-20  2.500000e-01  2.500000e-01  2.500000e-01  2.500000e-01\n",
       "2005-01-21  2.500000e-01  2.500000e-01  2.500000e-01  2.500000e-01\n",
       "2005-01-24  2.500000e-01  2.500000e-01  2.500000e-01  2.500000e-01\n",
       "2005-01-25  2.500000e-01  2.500000e-01  2.500000e-01  2.500000e-01\n",
       "2005-01-26  2.500000e-01  2.500000e-01  2.500000e-01  2.500000e-01\n",
       "2005-01-27  2.500000e-01  2.500000e-01  2.500000e-01  2.500000e-01\n",
       "2005-01-28  2.500000e-01  2.500000e-01  2.500000e-01  2.500000e-01\n",
       "2005-01-31  2.500000e-01  2.500000e-01  2.500000e-01  2.500000e-01\n",
       "2005-02-01  2.500000e-01  2.500000e-01  2.500000e-01  2.500000e-01\n",
       "2005-02-02  2.500000e-01  2.500000e-01  2.500000e-01  2.500000e-01\n",
       "2005-02-03  4.857226e-17  4.869459e-16  4.971733e-16  1.000000e+00\n",
       "2005-02-04  2.500000e-01  2.500000e-01  2.500000e-01  2.500000e-01\n",
       "2005-02-07  2.500000e-01  2.500000e-01  2.500000e-01  2.500000e-01\n",
       "2005-02-08  2.500000e-01  2.500000e-01  2.500000e-01  2.500000e-01\n",
       "2005-02-09  2.500000e-01  2.500000e-01  2.500000e-01  2.500000e-01\n",
       "2005-02-10  7.216450e-16  1.000000e+00  1.615703e-17  0.000000e+00\n",
       "2005-02-11  2.500000e-01  2.500000e-01  2.500000e-01  2.500000e-01\n",
       "2005-02-14  0.000000e+00  1.000000e+00  7.534669e-17  0.000000e+00\n",
       "...                  ...           ...           ...           ...\n",
       "2005-04-14  1.000000e+00  1.845746e-15  1.263420e-16  0.000000e+00\n",
       "2005-04-15  1.000000e+00  0.000000e+00  2.081288e-16  2.914335e-16\n",
       "2005-04-18  0.000000e+00  0.000000e+00  0.000000e+00  0.000000e+00\n",
       "2005-04-19  1.000000e+00  0.000000e+00  0.000000e+00  0.000000e+00\n",
       "2005-04-20  1.000000e+00  0.000000e+00  0.000000e+00  2.775558e-16\n",
       "2005-04-21  0.000000e+00  1.000000e+00  1.179391e-15  0.000000e+00\n",
       "2005-04-22  6.383782e-16  1.148976e-16  0.000000e+00  3.026871e-16\n",
       "2005-04-25  9.960394e-16  7.502722e-17  0.000000e+00  0.000000e+00\n",
       "2005-04-26  2.500000e-01  2.500000e-01  2.500000e-01  2.500000e-01\n",
       "2005-04-27  2.500000e-01  2.500000e-01  2.500000e-01  2.500000e-01\n",
       "2005-04-28  2.077273e-17  2.783943e-17  7.106961e-17  0.000000e+00\n",
       "2005-04-29  5.871667e-16  1.000000e+00  8.804679e-16  0.000000e+00\n",
       "2005-05-02  1.000000e+00  6.126551e-17  0.000000e+00  1.387779e-17\n",
       "2005-05-03  0.000000e+00  1.000000e+00  0.000000e+00  0.000000e+00\n",
       "2005-05-04  1.000000e+00  0.000000e+00  1.553962e-16  0.000000e+00\n",
       "2005-05-05  4.063430e-16  1.000000e+00  3.747003e-16  5.692810e-16\n",
       "2005-05-06  6.105926e-17  0.000000e+00  1.840456e-16  0.000000e+00\n",
       "2005-05-09  8.392544e-17  0.000000e+00  3.330669e-16  0.000000e+00\n",
       "2005-05-10  7.216450e-16  2.493393e-16  0.000000e+00  1.000000e+00\n",
       "2005-05-11  7.771561e-16  1.000000e+00  0.000000e+00  2.373469e-16\n",
       "2005-05-12  1.000000e+00  8.257284e-16  0.000000e+00  4.271535e-16\n",
       "2005-05-13  4.585887e-17  0.000000e+00  0.000000e+00  0.000000e+00\n",
       "2005-05-16  1.000000e+00  2.974922e-16  0.000000e+00  3.191891e-16\n",
       "2005-05-17  6.152543e-16  0.000000e+00  0.000000e+00  0.000000e+00\n",
       "2005-05-18  1.000000e+00  0.000000e+00  6.422942e-16  9.462630e-16\n",
       "2005-05-19  8.483841e-17  1.000000e+00  0.000000e+00  4.170918e-16\n",
       "2005-05-20  0.000000e+00  1.000000e+00  6.990244e-16  1.296756e-15\n",
       "2005-05-23  4.996004e-16  1.000000e+00  0.000000e+00  0.000000e+00\n",
       "2005-05-24  0.000000e+00  1.000000e+00  3.641483e-16  3.861517e-16\n",
       "2005-05-25  0.000000e+00  2.482246e-01  0.000000e+00  6.938894e-17\n",
       "\n",
       "[100 rows x 4 columns]"
      ]
     },
     "execution_count": 7,
     "metadata": {},
     "output_type": "execute_result"
    }
   ],
   "source": [
    "result.weights"
   ]
  },
  {
   "cell_type": "markdown",
   "metadata": {},
   "source": [
    "结果跟我们的不一样，因为这个只有一个expert，逻辑是一样的~\n",
    "\n",
    "它结果打包做得很好"
   ]
  },
  {
   "cell_type": "code",
   "execution_count": null,
   "metadata": {},
   "outputs": [],
   "source": []
  }
 ],
 "metadata": {
  "kernelspec": {
   "display_name": "Python 3",
   "language": "python",
   "name": "python3"
  },
  "language_info": {
   "codemirror_mode": {
    "name": "ipython",
    "version": 3
   },
   "file_extension": ".py",
   "mimetype": "text/x-python",
   "name": "python",
   "nbconvert_exporter": "python",
   "pygments_lexer": "ipython3",
   "version": "3.6.8"
  }
 },
 "nbformat": 4,
 "nbformat_minor": 2
}
